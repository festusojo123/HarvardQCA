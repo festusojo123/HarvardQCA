{
 "cells": [
  {
   "cell_type": "code",
   "execution_count": 4,
   "metadata": {},
   "outputs": [
    {
     "name": "stdout",
     "output_type": "stream",
     "text": [
      "DEFGATE oracle:\n",
      "    1.0, 0, 0, 0\n",
      "    0, 1.0, 0, 0\n",
      "    0, 0, -1.0, 0\n",
      "    0, 0, 0, 1.0\n",
      "\n",
      "DEFGATE oracle:\n",
      "    1.0, 0, 0, 0\n",
      "    0, 1.0, 0, 0\n",
      "    0, 0, -1.0, 0\n",
      "    0, 0, 0, 1.0\n",
      "\n",
      "DECLARE ro BIT[2]\n",
      "H 0\n",
      "H 1\n",
      "oracle 0 1\n",
      "oracle 0 1\n",
      "MEASURE 0 ro[0]\n",
      "MEASURE 1 ro[1]\n",
      "\n",
      "(1+0j)|11>\n"
     ]
    },
    {
     "name": "stderr",
     "output_type": "stream",
     "text": [
      "/Users/neil/anaconda3/lib/python3.7/site-packages/pyquil/quil.py:166: UserWarning: Gate oracle has already been defined in this program\n",
      "  .format(instruction.name))\n",
      "/Users/neil/anaconda3/lib/python3.7/site-packages/pyquil/gates.py:487: UserWarning: Indexing measurement addresses by integers is deprecated. Replacing this with the MemoryReference ro[i] instead.\n",
      "  warn(\"Indexing measurement addresses by integers is deprecated. \"\n",
      "/Users/neil/anaconda3/lib/python3.7/site-packages/pyquil/quil.py:869: UserWarning: Please DECLARE all memory. I'm adding a declaration for the `ro` register, but I won't do this for you in the future.\n",
      "  warnings.warn(\"Please DECLARE all memory. I'm adding a declaration for the `ro` register, \"\n"
     ]
    },
    {
     "data": {
      "text/plain": [
       "3"
      ]
     },
     "execution_count": 4,
     "metadata": {},
     "output_type": "execute_result"
    }
   ],
   "source": [
    "import math\n",
    "import numpy as np\n",
    "import pyquil.quil as pq\n",
    "from pyquil.gates import *\n",
    "from pyquil.api import QVMConnection\n",
    "from functools import reduce\n",
    "\n",
    "\n",
    "def single_shot_grovers(data):\n",
    "  \n",
    "  # start the quantum program\n",
    "\tqvm = QVMConnection()\n",
    "\tp = pq.Program()\n",
    "\n",
    "  # Grover's requires an N-dimensional state space H, where N is the number\n",
    "  # of entries in the database. We can construct this with log_2(N) qubits.\n",
    "\n",
    "  # Let data_size represent the number of qubits required. Use base change rule!\n",
    "  # https://www.purplemath.com/modules/logrules5.htm\n",
    "\tdata_size = int(math.log10(len(data)) / math.log10(2))\n",
    "  \n",
    "  # iterate over the qubits and build the state space.\n",
    "  # allocate log_2(N) single-qubit Hadamard gates\n",
    "\tfor index in range(0,data_size):\n",
    "\t\tp.inst(H(index))\n",
    "\n",
    "  # Here we define the oracle: a gate that represents the predicate you want to \n",
    "  # search for a satisfying solution to. This gate should return true for \n",
    "  # the correct solution and false for all others. \n",
    "\toracle = np.identity(len(data)) - 2 * np.diag(data)\n",
    "  \n",
    "  # Make the oracle a static gate and add it for every qubit.\n",
    "\tp.defgate(\"oracle\", oracle)\n",
    "\tp.inst(tuple([\"oracle\"] + [i for i in range(0,data_size)]))\n",
    "\n",
    "  \n",
    "\n",
    "    ## complete the following stub code (this is where you complete the code)\n",
    "    ## This is the Grover diffusion operator.\n",
    "\tgrover_op = 2 * (1./len(data)) * np.ones(tuple([len(data)] + [1])) * np.ones(len(data)) - np.identity(len(data))\n",
    "  \n",
    "  # TODO: define the grover gate, allocate it for every qubit\n",
    "\tp.defgate(\"oracle\", oracle)\n",
    "\tp.inst(tuple([\"oracle\"] + [i for i in range(0,data_size)]))\n",
    "  \n",
    "  ## End of TODO\n",
    "\n",
    "\n",
    "\tfor index in range(0,data_size):\n",
    "\t\tp.measure(index, index)\n",
    "\n",
    "\tprint(p)\n",
    "\twavefunction = qvm.wavefunction(p)\n",
    "\tprint(qvm.wavefunction(p))\n",
    "  \n",
    "  # convert to classical index\n",
    "\tclassical_regs = [i for i in range(0, data_size)]\n",
    "\tfor i in classical_regs:\n",
    "\t\tp.measure(i,i)\n",
    "\tresult = qvm.run(p, classical_regs)[0]\n",
    "\tresult = reduce(lambda x,y: 2*x+y, result)\n",
    "\treturn(result)\n",
    "\n",
    "single_shot_grovers([0,0,1,0])"
   ]
  },
  {
   "cell_type": "code",
   "execution_count": null,
   "metadata": {},
   "outputs": [],
   "source": []
  }
 ],
 "metadata": {
  "kernelspec": {
   "display_name": "Python 3",
   "language": "python",
   "name": "python3"
  },
  "language_info": {
   "codemirror_mode": {
    "name": "ipython",
    "version": 3
   },
   "file_extension": ".py",
   "mimetype": "text/x-python",
   "name": "python",
   "nbconvert_exporter": "python",
   "pygments_lexer": "ipython3",
   "version": "3.7.0"
  }
 },
 "nbformat": 4,
 "nbformat_minor": 2
}
