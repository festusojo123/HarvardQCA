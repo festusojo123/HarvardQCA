{
  "nbformat": 4,
  "nbformat_minor": 0,
  "metadata": {
    "colab": {
      "name": "Lab 2",
      "version": "0.3.2",
      "provenance": [],
      "collapsed_sections": [],
      "toc_visible": true
    },
    "kernelspec": {
      "name": "python3",
      "display_name": "Python 3"
    }
  },
  "cells": [
    {
      "metadata": {
        "id": "9F-ibRUbzGtP",
        "colab_type": "text"
      },
      "cell_type": "markdown",
      "source": [
        "# QCA Comp Notebook 2"
      ]
    },
    {
      "metadata": {
        "id": "rwQDprHozflc",
        "colab_type": "text"
      },
      "cell_type": "markdown",
      "source": [
        "## Meeting Notes:\n",
        "- Bloch Sphere\n",
        "- Grover's"
      ]
    },
    {
      "metadata": {
        "id": "uTDEf5zuYEF1",
        "colab_type": "text"
      },
      "cell_type": "markdown",
      "source": [
        "## Bloch Sphere (Introduction)"
      ]
    },
    {
      "metadata": {
        "id": "6aPsaWQXirZU",
        "colab_type": "text"
      },
      "cell_type": "markdown",
      "source": [
        "[QuTIP](http://qutip.org/docs/4.1/guide/guide-bloch.html) sports a python visualization library for displaying bloch sphere diagrams and representations.  It's incredibly extensible and supports animated simulations.  These quick exercises introduce you to the tool.\n",
        "\n",
        "As review:\n",
        "The Bloch sphere is a geometrical representation of the pure state space of a two-level quantum mechanical system (qubit).\n",
        "\n",
        "The Bloch sphere is a unit 2-sphere, with antipodal points corresponding to a pair of mutually orthogonal state vectors. The north and south poles of the Bloch sphere are typically chosen to correspond to the standard basis vectors |0⟩ and |1⟩, respectively, which in turn might correspond e.g. to the spin-up and spin-down states of an electron. This choice is arbitrary, however. The points on the surface of the sphere correspond to the pure states of the system, whereas the interior points correspond to the mixed states.[2][3] The Bloch sphere may be generalized to an n-level quantum system.\n",
        "\n",
        "Please refer to the documentation: http://qutip.org/docs/4.1/guide/guide-bloch.html\n",
        "\n"
      ]
    },
    {
      "metadata": {
        "id": "NCup8pIsynuz",
        "colab_type": "code",
        "colab": {}
      },
      "cell_type": "code",
      "source": [
        "!pip3 install qutip\n",
        "import qutip"
      ],
      "execution_count": 0,
      "outputs": []
    },
    {
      "metadata": {
        "id": "n49VzZlqtG2j",
        "colab_type": "code",
        "colab": {}
      },
      "cell_type": "code",
      "source": [
        "from qutip import *\n",
        "import matplotlib.pyplot as plt"
      ],
      "execution_count": 0,
      "outputs": []
    },
    {
      "metadata": {
        "id": "3CjYV8qWtK5_",
        "colab_type": "code",
        "colab": {}
      },
      "cell_type": "code",
      "source": [
        "q = basis(2,0)\n",
        "b = Bloch()\n",
        "## Exercise: plot vectors along the x,y,& z of the Bloch sphere (hint... use add_vectors)\n",
        "\n",
        "b.show()\n",
        "\n",
        "## Optional (but recommended) -- complete comp meeting exercises "
      ],
      "execution_count": 0,
      "outputs": []
    },
    {
      "metadata": {
        "id": "jbN_SqNV2Mdc",
        "colab_type": "text"
      },
      "cell_type": "markdown",
      "source": [
        "# Grover's Algorithm"
      ]
    },
    {
      "metadata": {
        "id": "53L4RKRvLBwn",
        "colab_type": "text"
      },
      "cell_type": "markdown",
      "source": [
        "Grover's is a famous quantum algorithm for \"unstructured database search\" ... a method of sublinear search in an unstructured data form.  Think of trying to find a integer x in an array [1, 3, 4, 75, 430003, 23, 12, ... ].  Can you design a classical algorithm to do this w/o touching every element? \n",
        "\n",
        "Grover's algorithm accomplishes this feat by first creating a uniform superposition over all possibilities and then destructively interfering states that would not provide a satisfying solution. \n",
        "\n",
        "Highly recommend this blog to review the concepts and intuition behind the algorithm:\n",
        "http://twistedoakstudios.com/blog/Post2644_grovers-quantum-search-algorithm"
      ]
    },
    {
      "metadata": {
        "id": "LmXc578u2Xko",
        "colab_type": "text"
      },
      "cell_type": "markdown",
      "source": [
        "Grover's algorithm is a quantum algorithm that finds with high probability the unique input to a black box function that produces a particular output value, using just $O({\\sqrt {N}})$  evaluations of the function, where $N$ is the size of the function's domain. It was devised by Lov Grover in 1996. \n",
        "\n",
        "The analogous problem in classical computation cannot be solved in fewer than $ O(N)$ evaluations (because, in the worst case, the $N$-th member of the domain might be the correct member). At roughly the same time that Grover published his algorithm, Bennett, Bernstein, Brassard, and Vazirani proved that any quantum solution to the problem needs to evaluate the function  $\\Omega ({\\sqrt {N}})$ times, so Grover's algorithm is asymptotically optimal.\n",
        "\n",
        "For reference, here's some more on the [theory.](https://quantumexperience.ng.bluemix.net/proxy/tutorial/full-user-guide/004-Quantum_Algorithms/070-Grover%27s_Algorithm.html)\n",
        "\n",
        "\n",
        "\n",
        "\n",
        "---\n",
        "\n",
        "\n",
        "Write a quantum program for the single-shot Grover’s algorithm in Pyquil.\n",
        "\n",
        "\n",
        "\n",
        "The Python function you should produce is:\n",
        "\n",
        "\n"
      ]
    },
    {
      "metadata": {
        "id": "Pxfzes7A25Y1",
        "colab_type": "code",
        "colab": {}
      },
      "cell_type": "code",
      "source": [
        "```\n",
        "# data is an array of 0's and 1's such that there are exactly three times as many\n",
        "# 0's as 1's.  e.g. data: [0, 0, 1,0]; Solution = 2;\n",
        "def single_shot_grovers(data):\n",
        "    # return an index that contains the value 1\n",
        "```"
      ],
      "execution_count": 0,
      "outputs": []
    },
    {
      "metadata": {
        "id": "fU7FKRhU3Y3x",
        "colab_type": "code",
        "colab": {}
      },
      "cell_type": "code",
      "source": [
        "import math\n",
        "import numpy as np\n",
        "import pyquil.quil as pq\n",
        "from pyquil.gates import *\n",
        "from pyquil.api import QVMConnection\n",
        "from functools import reduce\n",
        "\n",
        "\n",
        "def single_shot_grovers(data):\n",
        "  \n",
        "  # start the quantum program\n",
        "\tqvm = QVMConnection()\n",
        "\tp = pq.Program()\n",
        "\n",
        "  # Grover's requires an N-dimensional state space H, where N is the number\n",
        "  # of entries in the database. We can construct this with log_2(N) qubits.\n",
        "\n",
        "  # Let data_size represent the number of qubits required. Use base change rule!\n",
        "  # https://www.purplemath.com/modules/logrules5.htm\n",
        "\tdata_size = int(math.log10(len(data)) / math.log10(2))\n",
        "  \n",
        "  # iterate over the qubits and build the state space.\n",
        "  # allocate log_2(N) single-qubit Hadamard gates\n",
        "\tfor index in range(0,data_size):\n",
        "\t\tp.inst(H(index))\n",
        "\n",
        "  # Here we define the oracle: a gate that represents the predicate you want to \n",
        "  # search for a satisfying solution to. This gate should return true for \n",
        "  # the correct solution and false for all others. \n",
        "\toracle = np.identity(len(data)) - 2 * np.diag(data)\n",
        "  \n",
        "  # Make the oracle a static gate and add it for every qubit.\n",
        "\tp.defgate(\"oracle\", oracle)\n",
        "\tp.inst(tuple([\"oracle\"] + [i for i in range(0,data_size)]))\n",
        "\n",
        "  \n",
        "\n",
        "    ## complete the following stub code (this is where you complete the code)\n",
        "    ## This is the Grover diffusion operator.\n",
        "\tgrover_op = 2 * (1./len(data)) * np.ones(tuple([len(data)] + [1])) * np.ones(len(data)) - np.identity(len(data))\n",
        "  \n",
        "  # TODO: define the grover gate, allocate it for every qubit\n",
        "\tp.defgate()\n",
        "\tp.inst()\n",
        "  \n",
        "  ## End of TODO\n",
        "\n",
        "\n",
        "\tfor index in range(0,data_size):\n",
        "\t\tp.measure(index, index)\n",
        "\n",
        "\tprint(p)\n",
        "\twavefunction = qvm.wavefunction(p)\n",
        "\tprint(qvm.wavefunction(p))\n",
        "  \n",
        "  # convert to classical index\n",
        "\tclassical_regs = [i for i in range(0, data_size)]\n",
        "\tfor i in classical_regs:\n",
        "\t\tp.measure(i,i)\n",
        "\tresult = qvm.run(p, classical_regs)[0]\n",
        "\tresult = reduce(lambda x,y: 2*x+y, result)\n",
        "\treturn(result)\n",
        "\n",
        "single_shot_grovers([0,0,1,0])\n",
        "single_shot_grovers([1,0,0,0, 0, 1, 0, 0])"
      ],
      "execution_count": 0,
      "outputs": []
    }
  ]
}